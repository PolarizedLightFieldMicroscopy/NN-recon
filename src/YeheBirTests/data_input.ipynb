{
 "cells": [
  {
   "cell_type": "code",
   "execution_count": 1,
   "metadata": {},
   "outputs": [
    {
     "name": "stdout",
     "output_type": "stream",
     "text": [
      "----------------------------------------------------------------\n",
      "        Layer (type)               Output Shape         Param #\n",
      "================================================================\n",
      "            Conv3d-1       [-1, 32, 16, 16, 16]          13,856\n",
      "              ReLU-2       [-1, 32, 16, 16, 16]               0\n",
      "            Conv3d-3       [-1, 32, 16, 16, 16]          27,680\n",
      "              ReLU-4       [-1, 32, 16, 16, 16]               0\n",
      "            Conv3d-5       [-1, 32, 16, 16, 16]          13,856\n",
      "              ReLU-6       [-1, 32, 16, 16, 16]               0\n",
      "            Conv3d-7       [-1, 32, 16, 16, 16]          27,680\n",
      "              ReLU-8       [-1, 32, 16, 16, 16]               0\n",
      "            Conv3d-9       [-1, 32, 16, 16, 16]          13,856\n",
      "             ReLU-10       [-1, 32, 16, 16, 16]               0\n",
      "           Conv3d-11       [-1, 32, 16, 16, 16]          27,680\n",
      "             ReLU-12       [-1, 32, 16, 16, 16]               0\n",
      "           Conv3d-13       [-1, 32, 16, 16, 16]          13,856\n",
      "             ReLU-14       [-1, 32, 16, 16, 16]               0\n",
      "           Conv3d-15       [-1, 32, 16, 16, 16]          27,680\n",
      "             ReLU-16       [-1, 32, 16, 16, 16]               0\n",
      "           Conv3d-17      [-1, 128, 16, 16, 16]         221,312\n",
      "             ReLU-18      [-1, 128, 16, 16, 16]               0\n",
      "           Conv3d-19      [-1, 128, 16, 16, 16]         442,496\n",
      "             ReLU-20      [-1, 128, 16, 16, 16]               0\n",
      "           Conv3d-21      [-1, 128, 16, 16, 16]         221,312\n",
      "             ReLU-22      [-1, 128, 16, 16, 16]               0\n",
      "           Conv3d-23      [-1, 128, 16, 16, 16]         442,496\n",
      "             ReLU-24      [-1, 128, 16, 16, 16]               0\n",
      "================================================================\n",
      "Total params: 1,493,760\n",
      "Trainable params: 1,493,760\n",
      "Non-trainable params: 0\n",
      "----------------------------------------------------------------\n",
      "Input size (MB): 0.50\n",
      "Forward/backward pass size (MB): 48.00\n",
      "Params size (MB): 5.70\n",
      "Estimated Total Size (MB): 54.20\n",
      "----------------------------------------------------------------\n",
      "None\n"
     ]
    }
   ],
   "source": [
    "import torch\n",
    "from Model_B import B13Net, B13NetV1\n",
    "from torchsummary import summary\n",
    "from torch.utils.tensorboard import SummaryWriter\n",
    "\n",
    "device = (\n",
    "    \"cuda\"\n",
    "    if torch.cuda.is_available()\n",
    "    else \"mps\"\n",
    "    if torch.backends.mps.is_available()\n",
    "    else \"cpu\"\n",
    ")\n",
    "\n",
    "input = torch.randn(2, 16, 16, 16, 16)\n",
    "\n",
    "model = B13NetV1().to(device)\n",
    "writer = SummaryWriter(\"runs/Model_B\")\n",
    "print(summary(model, input_size=(2, 16, 16, 16, 16), device=device))\n",
    "\n"
   ]
  }
 ],
 "metadata": {
  "kernelspec": {
   "display_name": "FC",
   "language": "python",
   "name": "python3"
  },
  "language_info": {
   "codemirror_mode": {
    "name": "ipython",
    "version": 3
   },
   "file_extension": ".py",
   "mimetype": "text/x-python",
   "name": "python",
   "nbconvert_exporter": "python",
   "pygments_lexer": "ipython3",
   "version": "3.10.12"
  },
  "orig_nbformat": 4
 },
 "nbformat": 4,
 "nbformat_minor": 2
}
