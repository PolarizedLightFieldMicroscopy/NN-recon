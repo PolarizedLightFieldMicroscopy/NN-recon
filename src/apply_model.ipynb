{
 "cells": [
  {
   "cell_type": "code",
   "execution_count": 9,
   "metadata": {},
   "outputs": [],
   "source": [
    "import numpy as np\n",
    "# import plotly\n",
    "from tifffile import imread, imwrite\n",
    "import matplotlib.pyplot as plt\n",
    "import stackview"
   ]
  },
  {
   "cell_type": "code",
   "execution_count": 27,
   "metadata": {},
   "outputs": [
    {
     "data": {
      "image/png": "[encoded data removed]",
      "text/plain": [
       "<Figure size 640x480 with 1 Axes>"
      ]
     },
     "metadata": {},
     "output_type": "display_data"
    }
   ],
   "source": [
    "DATA_PATH = \"/mnt/efs/shared_data/restorators/spheres\"\n",
    "obj = imread(DATA_PATH + '/objects/0203_sphere.tiff')\n",
    "delta_n = obj[0, ...]\n",
    "optic_axis = obj[1:, ...]\n",
    "plt.imshow(delta_n[4, ...])\n",
    "plt.show(block=True)\n",
    "plt.pause(0.2)"
   ]
  },
  {
   "cell_type": "code",
   "execution_count": 2,
   "metadata": {},
   "outputs": [
    {
     "data": {
      "text/html": [
       "<style>\n",
       ".python-iframe > iframe {\n",
       "  height:1000px !important;\n",
       "}\n",
       "</style>\n"
      ],
      "text/plain": [
       "<IPython.core.display.HTML object>"
      ]
     },
     "metadata": {},
     "output_type": "display_data"
    }
   ],
   "source": [
    "%%html\n",
    "<style>\n",
    ".python-iframe > iframe {\n",
    "  height:1000px !important;\n",
    "}\n",
    "</style>"
   ]
  },
  {
   "cell_type": "code",
   "execution_count": 1,
   "metadata": {},
   "outputs": [
    {
     "data": {
      "text/html": [
       "<style>\n",
       ".python-iframe > iframe {\n",
       "  height:1000px !important;\n",
       "}\n",
       "</style>\n"
      ],
      "text/plain": [
       "<IPython.core.display.HTML object>"
      ]
     },
     "metadata": {},
     "output_type": "display_data"
    }
   ],
   "source": [
    "%%html\n",
    "<style>\n",
    ".python-iframe > iframe {\n",
    "  height:1000px !important;\n",
    "}\n",
    "</style>"
   ]
  },
  {
   "cell_type": "code",
   "execution_count": 28,
   "metadata": {},
   "outputs": [
    {
     "data": {
      "application/vnd.jupyter.widget-view+json": {
       "model_id": "52cefaa5b5c84915a8ac2acb73c48a7e",
       "version_major": 2,
       "version_minor": 0
      },
      "text/plain": [
       "VBox(children=(HBox(children=(VBox(children=(ImageWidget(height=320, width=320),)),)), IntSlider(value=4, desc…"
      ]
     },
     "execution_count": 28,
     "metadata": {},
     "output_type": "execute_result"
    }
   ],
   "source": [
    "stackview.slice(obj[1], continuous_update=True, zoom_factor=10, colormap='viridis')"
   ]
  },
  {
   "cell_type": "code",
   "execution_count": 9,
   "metadata": {},
   "outputs": [
    {
     "data": {
      "application/vnd.jupyter.widget-view+json": {
       "model_id": "0ef59ea13c254d1fbae64f6501c2893f",
       "version_major": 2,
       "version_minor": 0
      },
      "text/plain": [
       "HBox(children=(VBox(children=(HBox(children=(VBox(children=(ImageWidget(height=320, width=320),)),)), IntSlide…"
      ]
     },
     "metadata": {},
     "output_type": "display_data"
    }
   ],
   "source": [
    "stackview.orthogonal(delta_n, continuous_update=True, zoom_factor=10)"
   ]
  },
  {
   "cell_type": "code",
   "execution_count": 25,
   "metadata": {},
   "outputs": [
    {
     "data": {
      "text/plain": [
       "array([ 0., -0., -0.], dtype=float32)"
      ]
     },
     "execution_count": 25,
     "metadata": {},
     "output_type": "execute_result"
    }
   ],
   "source": [
    "optic_axis[:, 3, 14, 16]"
   ]
  },
  {
   "cell_type": "code",
   "execution_count": 29,
   "metadata": {},
   "outputs": [
    {
     "data": {
      "application/vnd.jupyter.widget-view+json": {
       "model_id": "854b019bb38145a09b1cd07288dd0829",
       "version_major": 2,
       "version_minor": 0
      },
      "text/plain": [
       "HBox(children=(VBox(children=(HBox(children=(VBox(children=(ImageWidget(height=360, width=360),)),)), IntSlide…"
      ]
     },
     "execution_count": 29,
     "metadata": {},
     "output_type": "execute_result"
    }
   ],
   "source": [
    "stackview.orthogonal(optic_axis[1,:,10:22,10:22], continuous_update=True, zoom_factor=30)"
   ]
  },
  {
   "cell_type": "code",
   "execution_count": null,
   "metadata": {},
   "outputs": [
    {
     "data": {
      "application/vnd.jupyter.widget-view+json": {
       "model_id": "096a202702db417291c75bf340ba3b2b",
       "version_major": 2,
       "version_minor": 0
      },
      "text/plain": [
       "HBox(children=(VBox(children=(HBox(children=(VBox(children=(ImageWidget(height=320, width=320),)),)), IntSlide…"
      ]
     },
     "metadata": {},
     "output_type": "display_data"
    }
   ],
   "source": [
    "stackview.orthogonal(optic_axis[1], continuous_update=True, zoom_factor=10)"
   ]
  },
  {
   "cell_type": "code",
   "execution_count": null,
   "metadata": {},
   "outputs": [
    {
     "data": {
      "application/vnd.jupyter.widget-view+json": {
       "model_id": "0dade2476315445d93e8c2b98d041dd4",
       "version_major": 2,
       "version_minor": 0
      },
      "text/plain": [
       "HBox(children=(VBox(children=(HBox(children=(VBox(children=(ImageWidget(height=320, width=320),)),)), IntSlide…"
      ]
     },
     "metadata": {},
     "output_type": "display_data"
    }
   ],
   "source": [
    "stackview.orthogonal(optic_axis[2], continuous_update=True, zoom_factor=10)"
   ]
  },
  {
   "cell_type": "code",
   "execution_count": 30,
   "metadata": {},
   "outputs": [
    {
     "name": "stdout",
     "output_type": "stream",
     "text": [
      "using cuda device\n"
     ]
    }
   ],
   "source": [
    "'''Script to test a trained model on the set of birefringence data'''\n",
    "import torch\n",
    "from data import BirefringenceDataset\n",
    "from model_bir import BirNetwork\n",
    "\n",
    "device = (\n",
    "    \"cuda\"\n",
    "    if torch.cuda.is_available()\n",
    "    else \"mps\"\n",
    "    if torch.backends.mps.is_available()\n",
    "    else \"cpu\"\n",
    ")\n",
    "print(f\"using {device} device\")\n",
    "\n",
    "saved_model_dir = \"/mnt/efs/shared_data/restorators/models_bir/\"\n",
    "\n",
    "DATA_PATH = \"/mnt/efs/shared_data/restorators/spheres\"\n",
    "test_data = BirefringenceDataset(DATA_PATH, split='test')\n",
    "testloader = torch.utils.data.DataLoader(test_data, batch_size=1,\n",
    "                                         shuffle=False, num_workers=2)\n",
    "\n",
    "# model_relu = BirNetwork().to(device)\n",
    "# model_relu.eval()\n",
    "# weights_relu = torch.load(saved_model_dir + 'sphere128.pt')\n",
    "# model_relu.load_state_dict(weights_relu)\n",
    "\n",
    "# model_leaky = BirNetwork().to(device)\n",
    "# model_leaky.eval()\n",
    "# weights_leaky = torch.load(saved_model_dir + 'sphere_9_2_epoch67.pt')\n",
    "# model_leaky.load_state_dict(weights_leaky)\n",
    "\n",
    "# model_normed = BirNetwork().to(device)\n",
    "# model_normed.eval()\n",
    "# weights_normed = torch.load(saved_model_dir + 'sphere_9_3_norm/norm_final.pt')\n",
    "# model_normed.load_state_dict(weights_normed)\n",
    "\n",
    "model_normed_ker5 = BirNetwork().to(device)\n",
    "model_normed_ker5.eval()\n",
    "weights_normed_ker5 = torch.load(saved_model_dir + 'sphere_9_3_norm_ker5/norm_final.pt')\n",
    "model_normed_ker5.load_state_dict(weights_normed_ker5)\n",
    "\n",
    "data_pair = test_data[0]\n",
    "source = data_pair[0]\n",
    "source = source.unsqueeze(axis=0).to(device)\n",
    "# source1 = source1\n",
    "with torch.no_grad():\n",
    "    # target_pred_relu = model_relu(source).cpu()\n",
    "    # target_pred_leaky = model_leaky(source).cpu()\n",
    "    # target_pred_normed = model_normed(source).cpu()\n",
    "    target_pred_normed_ker5 = model_normed_ker5(source).cpu()"
   ]
  },
  {
   "cell_type": "code",
   "execution_count": null,
   "metadata": {},
   "outputs": [
    {
     "data": {
      "application/vnd.jupyter.widget-view+json": {
       "model_id": "a7da6c3855b1449d8977d5abf0938e16",
       "version_major": 2,
       "version_minor": 0
      },
      "text/plain": [
       "HBox(children=(VBox(children=(HBox(children=(VBox(children=(ImageWidget(height=320, width=320),)),)), IntSlide…"
      ]
     },
     "metadata": {},
     "output_type": "display_data"
    }
   ],
   "source": [
    "pred = target_pred_relu.squeeze(axis=0)\n",
    "delta_pred_relu = pred[0, ...].detach().numpy()\n",
    "stackview.orthogonal(delta_pred_relu, continuous_update=True, zoom_factor=10)"
   ]
  },
  {
   "cell_type": "code",
   "execution_count": null,
   "metadata": {},
   "outputs": [
    {
     "data": {
      "text/plain": [
       "torch.Size([1, 4, 8, 32, 32])"
      ]
     },
     "execution_count": 28,
     "metadata": {},
     "output_type": "execute_result"
    }
   ],
   "source": [
    "target_pred_leaky.shape"
   ]
  },
  {
   "cell_type": "code",
   "execution_count": null,
   "metadata": {},
   "outputs": [
    {
     "data": {
      "application/vnd.jupyter.widget-view+json": {
       "model_id": "3028f93e86004f339f608d19b0e25aac",
       "version_major": 2,
       "version_minor": 0
      },
      "text/plain": [
       "HBox(children=(VBox(children=(HBox(children=(VBox(children=(ImageWidget(height=320, width=320),)),)), IntSlide…"
      ]
     },
     "metadata": {},
     "output_type": "display_data"
    }
   ],
   "source": [
    "pred = target_pred_leaky.squeeze(axis=0)\n",
    "target_pred_leaky = pred[0, ...].detach().numpy()\n",
    "stackview.orthogonal(target_pred_leaky, continuous_update=True, zoom_factor=10)"
   ]
  },
  {
   "cell_type": "code",
   "execution_count": null,
   "metadata": {},
   "outputs": [
    {
     "data": {
      "application/vnd.jupyter.widget-view+json": {
       "model_id": "d2de08c2c1ad4bb0afeebae14edcf8e8",
       "version_major": 2,
       "version_minor": 0
      },
      "text/plain": [
       "HBox(children=(VBox(children=(HBox(children=(VBox(children=(ImageWidget(height=320, width=320),)),)), IntSlide…"
      ]
     },
     "metadata": {},
     "output_type": "display_data"
    }
   ],
   "source": [
    "pred = target_pred_normed.squeeze(axis=0)\n",
    "target_pred_normed = pred[0, ...].detach().numpy()\n",
    "stackview.orthogonal(target_pred_normed, continuous_update=True, zoom_factor=10)"
   ]
  },
  {
   "cell_type": "code",
   "execution_count": 10,
   "metadata": {},
   "outputs": [
    {
     "data": {
      "application/vnd.jupyter.widget-view+json": {
       "model_id": "66bf173b618b4b049e36ec26d3309a28",
       "version_major": 2,
       "version_minor": 0
      },
      "text/plain": [
       "HBox(children=(VBox(children=(HBox(children=(VBox(children=(ImageWidget(height=320, width=320),)),)), IntSlide…"
      ]
     },
     "metadata": {},
     "output_type": "display_data"
    }
   ],
   "source": [
    "target = data_pair[1]\n",
    "delta_gt = target[0, ...].detach().numpy()\n",
    "stackview.orthogonal(delta_gt, continuous_update=True, zoom_factor=10)"
   ]
  },
  {
   "cell_type": "code",
   "execution_count": null,
   "metadata": {},
   "outputs": [
    {
     "data": {
      "application/vnd.jupyter.widget-view+json": {
       "model_id": "313225a0dd39415488627616d9827544",
       "version_major": 2,
       "version_minor": 0
      },
      "text/plain": [
       "HBox(children=(VBox(children=(HBox(children=(VBox(children=(ImageWidget(height=320, width=320),)),)), IntSlide…"
      ]
     },
     "metadata": {},
     "output_type": "display_data"
    }
   ],
   "source": [
    "pred = target_pred_leaky.squeeze(axis=0)\n",
    "delta_pred_leaky = pred[0, ...].detach().numpy()\n",
    "stackview.orthogonal(delta_pred_leaky, continuous_update=True, zoom_factor=10)"
   ]
  },
  {
   "cell_type": "code",
   "execution_count": null,
   "metadata": {},
   "outputs": [
    {
     "data": {
      "text/plain": [
       "0.020374032"
      ]
     },
     "execution_count": 31,
     "metadata": {},
     "output_type": "execute_result"
    }
   ],
   "source": [
    "np.max(delta_pred_leaky)"
   ]
  },
  {
   "cell_type": "code",
   "execution_count": 5,
   "metadata": {},
   "outputs": [
    {
     "data": {
      "text/plain": [
       "(8, 32, 32)"
      ]
     },
     "execution_count": 5,
     "metadata": {},
     "output_type": "execute_result"
    }
   ],
   "source": [
    "target_pred_normed_ker5.shape"
   ]
  },
  {
   "cell_type": "code",
   "execution_count": 6,
   "metadata": {},
   "outputs": [
    {
     "data": {
      "application/vnd.jupyter.widget-view+json": {
       "model_id": "d672bab2872048cd9d619d7c947b2f90",
       "version_major": 2,
       "version_minor": 0
      },
      "text/plain": [
       "HBox(children=(VBox(children=(HBox(children=(VBox(children=(ImageWidget(height=320, width=320),)),)), IntSlide…"
      ]
     },
     "metadata": {},
     "output_type": "display_data"
    }
   ],
   "source": [
    "# pred = target_pred_normed_ker5.squeeze(axis=0)\n",
    "target_pred_normed_ker5_bir = pred[0, ...].detach().numpy()\n",
    "stackview.orthogonal(target_pred_normed_ker5_bir, continuous_update=True, zoom_factor=10)"
   ]
  },
  {
   "cell_type": "code",
   "execution_count": 9,
   "metadata": {},
   "outputs": [],
   "source": [
    "# import os\n",
    "# os.makedirs('../inference/round1/')"
   ]
  },
  {
   "cell_type": "code",
   "execution_count": 36,
   "metadata": {},
   "outputs": [],
   "source": [
    "prediction = target_pred_normed_ker5.squeeze(axis=0).numpy()\n",
    "gt = target.numpy()"
   ]
  },
  {
   "cell_type": "code",
   "execution_count": null,
   "metadata": {},
   "outputs": [],
   "source": []
  },
  {
   "cell_type": "code",
   "execution_count": 39,
   "metadata": {},
   "outputs": [
    {
     "data": {
      "text/plain": [
       "(4, 8, 32, 32)"
      ]
     },
     "execution_count": 39,
     "metadata": {},
     "output_type": "execute_result"
    }
   ],
   "source": [
    "gt.shape"
   ]
  },
  {
   "cell_type": "code",
   "execution_count": 40,
   "metadata": {},
   "outputs": [],
   "source": [
    "imwrite(f\"../inference/round1/pred.tiff\", prediction)\n",
    "imwrite(f\"../inference/round1/gt.tiff\", gt)"
   ]
  },
  {
   "cell_type": "code",
   "execution_count": null,
   "metadata": {},
   "outputs": [],
   "source": [
    "import skimage.metrics"
   ]
  },
  {
   "cell_type": "code",
   "execution_count": null,
   "metadata": {},
   "outputs": [],
   "source": [
    "psnr = skimage.metrics.peak_signal_noise_ratio(delta_gt, delta_pred_leaky, data_range=None)"
   ]
  },
  {
   "cell_type": "code",
   "execution_count": null,
   "metadata": {},
   "outputs": [
    {
     "data": {
      "text/plain": [
       "62.611342822709574"
      ]
     },
     "execution_count": 42,
     "metadata": {},
     "output_type": "execute_result"
    }
   ],
   "source": [
    "psnr"
   ]
  },
  {
   "cell_type": "code",
   "execution_count": null,
   "metadata": {},
   "outputs": [],
   "source": [
    "psnr = skimage.metrics.peak_signal_noise_ratio(delta_gt, delta_pred_relu, data_range=None)"
   ]
  },
  {
   "cell_type": "code",
   "execution_count": null,
   "metadata": {},
   "outputs": [
    {
     "data": {
      "text/plain": [
       "20.65226410920985"
      ]
     },
     "execution_count": 46,
     "metadata": {},
     "output_type": "execute_result"
    }
   ],
   "source": [
    "psnr"
   ]
  },
  {
   "cell_type": "code",
   "execution_count": null,
   "metadata": {},
   "outputs": [
    {
     "data": {
      "text/plain": [
       "0.007911835"
      ]
     },
     "execution_count": 47,
     "metadata": {},
     "output_type": "execute_result"
    }
   ],
   "source": [
    "np.max(delta_gt)"
   ]
  },
  {
   "cell_type": "code",
   "execution_count": null,
   "metadata": {},
   "outputs": [
    {
     "data": {
      "text/plain": [
       "0.5410269"
      ]
     },
     "execution_count": 48,
     "metadata": {},
     "output_type": "execute_result"
    }
   ],
   "source": [
    "np.max(delta_pred_relu)"
   ]
  },
  {
   "cell_type": "code",
   "execution_count": null,
   "metadata": {},
   "outputs": [
    {
     "data": {
      "text/plain": [
       "0.010857783"
      ]
     },
     "execution_count": 50,
     "metadata": {},
     "output_type": "execute_result"
    }
   ],
   "source": [
    "np.median(delta_pred_relu)"
   ]
  },
  {
   "cell_type": "code",
   "execution_count": null,
   "metadata": {},
   "outputs": [],
   "source": []
  }
 ],
 "metadata": {
  "kernelspec": {
   "display_name": "06_instance_segmentation",
   "language": "python",
   "name": "python3"
  },
  "language_info": {
   "codemirror_mode": {
    "name": "ipython",
    "version": 3
   },
   "file_extension": ".py",
   "mimetype": "text/x-python",
   "name": "python",
   "nbconvert_exporter": "python",
   "pygments_lexer": "ipython3",
   "version": "3.10.12"
  },
  "orig_nbformat": 4
 },
 "nbformat": 4,
 "nbformat_minor": 2
}
